{
 "cells": [
  {
   "cell_type": "code",
   "execution_count": 1,
   "metadata": {},
   "outputs": [],
   "source": [
    "import gurobipy as gp"
   ]
  },
  {
   "cell_type": "code",
   "execution_count": 2,
   "metadata": {},
   "outputs": [
    {
     "name": "stdout",
     "output_type": "stream",
     "text": [
      "Using license file /home/octavio/gurobi.lic\n",
      "Academic license - for non-commercial use only\n",
      "Gurobi Optimizer version 9.0.3 build v9.0.3rc0 (linux64)\n",
      "Optimize a model with 3 rows, 3 columns and 7 nonzeros\n",
      "Model fingerprint: 0xa81d5c28\n",
      "Coefficient statistics:\n",
      "  Matrix range     [1e+00, 2e+00]\n",
      "  Objective range  [1e+01, 2e+01]\n",
      "  Bounds range     [0e+00, 0e+00]\n",
      "  RHS range        [1e+02, 2e+02]\n",
      "Presolve time: 0.12s\n",
      "Presolved: 3 rows, 3 columns, 7 nonzeros\n",
      "\n",
      "Iteration    Objective       Primal Inf.    Dual Inf.      Time\n",
      "       0    5.2000000e+31   5.000000e+30   5.200000e+01      1s\n",
      "       5    2.3460000e+03   0.000000e+00   0.000000e+00      1s\n",
      "\n",
      "Solved in 5 iterations and 0.75 seconds\n",
      "Optimal objective  2.346000000e+03\n"
     ]
    }
   ],
   "source": [
    "# Criar o modelo\n",
    "m = gp.Model('Exemplo 1')\n",
    "\n",
    "# Insere as variáveis de decisão\n",
    "x1 = m.addVar()\n",
    "x2 = m.addVar()\n",
    "x3 = m.addVar()\n",
    "\n",
    "# Define a função obetivo\n",
    "m.setObjective(12*x1 + 18*x2 + 22*x3, sense=gp.GRB.MAXIMIZE)\n",
    "\n",
    "# Insere as restrições do modelo\n",
    "c1 = m.addConstr(1.5*x1 + 1.2*x3 <= 120)\n",
    "c2 = m.addConstr(2.2*x2 + 1.4*x3 <= 200)\n",
    "c3 = m.addConstr(1.2*x1 + +2*x2+ 2.4*x3 <= 250)\n",
    "\n",
    "# Resolve o modelo\n",
    "m.optimize()"
   ]
  },
  {
   "cell_type": "code",
   "execution_count": 3,
   "metadata": {},
   "outputs": [
    {
     "name": "stdout",
     "output_type": "stream",
     "text": [
      "Produto A 80.0\n",
      "Produto B 77.0\n",
      "Produto C 0.0\n"
     ]
    }
   ],
   "source": [
    "# Imprime o mix de produção\n",
    "print('Produto A', x1.X)\n",
    "print('Produto B', x2.X)\n",
    "print('Produto C', x3.X)"
   ]
  },
  {
   "cell_type": "code",
   "execution_count": 6,
   "metadata": {},
   "outputs": [
    {
     "name": "stdout",
     "output_type": "stream",
     "text": [
      "Máquina 1  120.0\n",
      "Máquina 2  169.4\n",
      "Máquina 3  250.0\n"
     ]
    }
   ],
   "source": [
    "# Tempo de ocupação das máquinas\n",
    "tempo_m1 = 120 - c1.Slack\n",
    "tempo_m2 = 200 - c2.Slack\n",
    "tempo_m3 = 250 - c3.Slack\n",
    "\n",
    "print('Máquina 1 ',tempo_m1)\n",
    "print('Máquina 2 ',tempo_m2)\n",
    "print('Máquina 3 ',tempo_m3)"
   ]
  },
  {
   "cell_type": "code",
   "execution_count": null,
   "metadata": {},
   "outputs": [],
   "source": []
  }
 ],
 "metadata": {
  "kernelspec": {
   "display_name": "Python 3",
   "language": "python",
   "name": "python3"
  },
  "language_info": {
   "codemirror_mode": {
    "name": "ipython",
    "version": 3
   },
   "file_extension": ".py",
   "mimetype": "text/x-python",
   "name": "python",
   "nbconvert_exporter": "python",
   "pygments_lexer": "ipython3",
   "version": "3.7.3"
  },
  "varInspector": {
   "cols": {
    "lenName": 16,
    "lenType": 16,
    "lenVar": 40
   },
   "kernels_config": {
    "python": {
     "delete_cmd_postfix": "",
     "delete_cmd_prefix": "del ",
     "library": "var_list.py",
     "varRefreshCmd": "print(var_dic_list())"
    },
    "r": {
     "delete_cmd_postfix": ") ",
     "delete_cmd_prefix": "rm(",
     "library": "var_list.r",
     "varRefreshCmd": "cat(var_dic_list()) "
    }
   },
   "types_to_exclude": [
    "module",
    "function",
    "builtin_function_or_method",
    "instance",
    "_Feature"
   ],
   "window_display": false
  }
 },
 "nbformat": 4,
 "nbformat_minor": 2
}
