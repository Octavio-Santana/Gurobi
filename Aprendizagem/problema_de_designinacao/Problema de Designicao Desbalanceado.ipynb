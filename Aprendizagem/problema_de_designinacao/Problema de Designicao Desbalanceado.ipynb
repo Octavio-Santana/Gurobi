{
 "cells": [
  {
   "cell_type": "markdown",
   "metadata": {},
   "source": [
    "# Problema de Designação Desbalanceado\n",
    "\n",
    "O problema de designação tem como objetivo designar tarefas a recursos. Por exemplo, tenhamos um conjunto de tarefas e um conjuto de equipes. Queremos definir qual equipe irá fazer qual projeto de modo a minimizar o custo total para realizar os projetos.\n",
    "\n",
    "Índices:\n",
    "- $i=1, ..., m$ refere-se as equipes;\n",
    "- $j=1, ..., n$ refere-se aos tarefas;\n",
    "\n",
    "Parâmetros:\n",
    "- $c_{ij}$ custo para que a equipe $i$ faça a tarefa $j$.\n",
    "\n",
    "### Objetivo: \n",
    "\n",
    "$$\n",
    "\\min \\left(\\sum_{i=1}^{m}\\sum_{j=1}^{n}c_{ij}x_{ij}\\right)\n",
    "$$\n",
    "\n",
    "### Sujeito as restrições:\n",
    "\n",
    "#### Caso 1: Há mais equipes que tarefas; neste caso algumas equipes ficarão sem tarefas.\n",
    "\n",
    "$$\n",
    "\\sum_{j=1}^{n}x_{ij} \\leq 1, \\;\\; \\forall i=1, ..., m \\\\\n",
    "\\sum_{i=1}^{m}x_{ij}=1, \\;\\; \\forall j=1, ..., n \\\\\n",
    "x_{ij}\\geq 0\n",
    "$$\n",
    "\n",
    "#### Caso 2: Há mais tarefas que equipes; neste caso algumas tarefas não serão realizadas.\n",
    "\n",
    "$$\n",
    "\\sum_{j=1}^{n}x_{ij} = 1, \\;\\; \\forall i=1, ..., m \\\\\n",
    "\\sum_{i=1}^{m}x_{ij} \\leq 1, \\;\\; \\forall j=1, ..., n \\\\\n",
    "x_{ij}\\geq 0\n",
    "$$"
   ]
  },
  {
   "cell_type": "code",
   "execution_count": 1,
   "metadata": {},
   "outputs": [],
   "source": [
    "import gurobipy as gp"
   ]
  },
  {
   "cell_type": "code",
   "execution_count": 2,
   "metadata": {},
   "outputs": [],
   "source": [
    "# Dados do problema\n",
    "qtd_equipes = 6\n",
    "qtd_tarefas = 6\n",
    "\n",
    "vet_custo = [[108, 312, 144, 270, 160, 300],\n",
    "             [108, 208, 144, 360, 180, 270],\n",
    "             [108, 234, 180, 240, 180, 300],\n",
    "             [144, 286, 180, 330, 240, 300],\n",
    "             [132, 286, 144, 330, 180, 270],\n",
    "             [120, 312, 144, 270, 220, 300]]\n",
    "\n",
    "# Índices para as equipes\n",
    "equipes = [f'Equipes_{i}' for i in range(1,qtd_equipes+1)]\n",
    "\n",
    "# Índices para os projetos\n",
    "tarefas = [f'Tarefas_{j}' for j in range(1,qtd_tarefas+1)]"
   ]
  },
  {
   "cell_type": "code",
   "execution_count": 3,
   "metadata": {},
   "outputs": [],
   "source": [
    "custos = {(equipes[i],tarefas[j]):vet_custo[i][j] for i in range(qtd_equipes) for j in range(qtd_tarefas)}"
   ]
  },
  {
   "cell_type": "code",
   "execution_count": 5,
   "metadata": {},
   "outputs": [
    {
     "name": "stdout",
     "output_type": "stream",
     "text": [
      "Custo total R$ 1166.0\n"
     ]
    }
   ],
   "source": [
    "# Cria modelo\n",
    "m = gp.Model()\n",
    "\n",
    "# Metodo para não imprimir o relatório\n",
    "m.setParam(gp.GRB.Param.OutputFlag, 0)\n",
    "\n",
    "# Variáveis de desição\n",
    "x = m.addVars(equipes, tarefas, vtype=gp.GRB.BINARY)\n",
    "\n",
    "# Função objetivo\n",
    "m.setObjective(\n",
    "    gp.quicksum(custos[i,j]*x[i,j] for i in equipes for j in tarefas),\n",
    "    sense=gp.GRB.MINIMIZE\n",
    ")\n",
    "\n",
    "# Retrições de equipes\n",
    "if qtd_equipes > qtd_tarefas:\n",
    "    c1 = m.addConstrs(\n",
    "        gp.quicksum(x[i,j] for j in tarefas) <= 1 for i in equipes\n",
    "    )\n",
    "else:\n",
    "    c1 = m.addConstrs(\n",
    "        gp.quicksum(x[i,j] for j in tarefas) == 1 for i in equipes\n",
    "    )\n",
    "\n",
    "# Retrições de tarefas\n",
    "if qtd_tarefas > qtd_equipes:\n",
    "    c2 = m.addConstrs(\n",
    "        gp.quicksum(x[i,j] for i in equipes) <= 1 for j in tarefas\n",
    "    )\n",
    "else:\n",
    "    c2 = m.addConstrs(\n",
    "        gp.quicksum(x[i,j] for i in equipes) <= 1 for j in tarefas\n",
    "    )\n",
    "\n",
    "# Executa o modelo\n",
    "m.optimize()\n",
    "\n",
    "print(f'Custo total R$ {m.objVal}')"
   ]
  },
  {
   "cell_type": "code",
   "execution_count": 6,
   "metadata": {},
   "outputs": [
    {
     "name": "stdout",
     "output_type": "stream",
     "text": [
      "A Equipes_1 fará o Tarefas_5.\n",
      "A Equipes_2 fará o Tarefas_2.\n",
      "A Equipes_3 fará o Tarefas_4.\n",
      "A Equipes_4 fará o Tarefas_1.\n",
      "A Equipes_5 fará o Tarefas_6.\n",
      "A Equipes_6 fará o Tarefas_3.\n"
     ]
    }
   ],
   "source": [
    "# Mostra qual equira fará qual tarefa\n",
    "for equipe in equipes:\n",
    "    for tarefa in tarefas:\n",
    "        if round(x[equipe,tarefa].X) == 1:\n",
    "            print(f'A {equipe} fará o {tarefa}.')"
   ]
  },
  {
   "cell_type": "code",
   "execution_count": null,
   "metadata": {},
   "outputs": [],
   "source": []
  },
  {
   "cell_type": "code",
   "execution_count": null,
   "metadata": {},
   "outputs": [],
   "source": []
  },
  {
   "cell_type": "code",
   "execution_count": null,
   "metadata": {},
   "outputs": [],
   "source": []
  }
 ],
 "metadata": {
  "kernelspec": {
   "display_name": "Python 3",
   "language": "python",
   "name": "python3"
  },
  "language_info": {
   "codemirror_mode": {
    "name": "ipython",
    "version": 3
   },
   "file_extension": ".py",
   "mimetype": "text/x-python",
   "name": "python",
   "nbconvert_exporter": "python",
   "pygments_lexer": "ipython3",
   "version": "3.7.3"
  },
  "varInspector": {
   "cols": {
    "lenName": 16,
    "lenType": 16,
    "lenVar": 40
   },
   "kernels_config": {
    "python": {
     "delete_cmd_postfix": "",
     "delete_cmd_prefix": "del ",
     "library": "var_list.py",
     "varRefreshCmd": "print(var_dic_list())"
    },
    "r": {
     "delete_cmd_postfix": ") ",
     "delete_cmd_prefix": "rm(",
     "library": "var_list.r",
     "varRefreshCmd": "cat(var_dic_list()) "
    }
   },
   "types_to_exclude": [
    "module",
    "function",
    "builtin_function_or_method",
    "instance",
    "_Feature"
   ],
   "window_display": false
  }
 },
 "nbformat": 4,
 "nbformat_minor": 2
}
