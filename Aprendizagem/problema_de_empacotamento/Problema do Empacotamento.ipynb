{
 "cells": [
  {
   "cell_type": "markdown",
   "metadata": {},
   "source": [
    "# Problema do Empacotamento\n",
    "\n",
    "Problema bastante importante na área de logistica, mais especficamente na área de armazenagem.\n",
    "\n",
    "Objetivo do problema é gaurdar todos os itens em caixas minimizando a quantidade de caixas necessárias.\n",
    "\n",
    "**Observação** Os itens não podem ser fracionados.\n",
    "\n",
    "Índices:\n",
    "- i = 1, ..., m itens;\n",
    "- j = 1, ..., n caixas;\n",
    "\n",
    "Parâmetroas:\n",
    "- $w_i$ peso do item i;\n",
    "- $C$ capacidade das caixas;\n",
    "\n",
    "Limitante inferior = $\\left[\\frac{\\sum_{i=1}^{n}w_i}{C}\\right]$. Corresponde uma estimativa de quanto que é o melhor caso possível para solução ótima.\n",
    "\n",
    "Limitante superior obtém pelo algoritmo ``next fit``.\n",
    "\n",
    "\n",
    "Variáveis de Decisão (todas binárias)\n",
    "- $x_{ij}$ indica se o item i será colocado na caixa j;\n",
    "- $y_j$ indica se a caixa j foi usada na solução;\n",
    "\n",
    "#### Função Objetivo\n",
    "\n",
    "$$\n",
    "\\min\\left[ \\sum_{j=1}^{n}y_j \\right]\n",
    "$$\n",
    "\n",
    "#### Função Restrição:\n",
    "\n",
    "restrição na capacidade da caixa\n",
    "$$\n",
    "\\sum_{i=1}^{m}w_ix_{ij} \\leq C y_{j}, \\;\\; \\forall j=1, ..., n\n",
    "$$\n",
    "\n",
    "todos os itens devem estar em uma caixa\n",
    "$$\n",
    "\\sum_{j=1}^{n}x_{ij} = 1, \\;\\; \\forall i=1, ..., m\n",
    "$$"
   ]
  },
  {
   "cell_type": "code",
   "execution_count": 1,
   "metadata": {},
   "outputs": [],
   "source": [
    "import gurobipy as gp"
   ]
  },
  {
   "cell_type": "code",
   "execution_count": 3,
   "metadata": {},
   "outputs": [],
   "source": [
    "# Dados do problema \n",
    "qtd_itens = 15    ## Quantidades de itens\n",
    "qtd_caixas = 9    ## Quantidades de caixas inicialmente que pode ser obtida pelo algoritmo ``next fit``.\n",
    "capacidade = 100  ## Capacidade de cada caixa\n",
    "\n",
    "# lista com os pesos de cada item\n",
    "vet_pesos = [20, 35, 60, 10, 30, 45, 30, 65, 60, 30, 50, 20, 65, 70, 45]\n",
    "\n",
    "# Rótulos dos itens\n",
    "itens = [f'Item_{i}' for i in range(1,qtd_itens+1)]\n",
    "\n",
    "# Rótulos das caixas\n",
    "caixas = [f'Caixa_{j}' for j in range(1,qtd_caixas+1)]\n",
    "\n",
    "# Dicionário dos pesos\n",
    "pesos = {itens[i]:vet_pesos[i] for i in range(qtd_itens)}"
   ]
  },
  {
   "cell_type": "code",
   "execution_count": 8,
   "metadata": {
    "scrolled": false
   },
   "outputs": [
    {
     "name": "stdout",
     "output_type": "stream",
     "text": [
      "Gurobi Optimizer version 9.0.3 build v9.0.3rc0 (linux64)\n",
      "Optimize a model with 24 rows, 144 columns and 279 nonzeros\n",
      "Model fingerprint: 0xe95c5229\n",
      "Variable types: 0 continuous, 144 integer (144 binary)\n",
      "Coefficient statistics:\n",
      "  Matrix range     [1e+00, 1e+02]\n",
      "  Objective range  [1e+00, 1e+00]\n",
      "  Bounds range     [1e+00, 1e+00]\n",
      "  RHS range        [1e+00, 1e+00]\n",
      "Found heuristic solution: objective 9.0000000\n",
      "Presolve time: 0.04s\n",
      "Presolved: 24 rows, 144 columns, 279 nonzeros\n",
      "Variable types: 0 continuous, 144 integer (144 binary)\n",
      "\n",
      "Root relaxation: objective 6.350000e+00, 41 iterations, 0.04 seconds\n",
      "\n",
      "    Nodes    |    Current Node    |     Objective Bounds      |     Work\n",
      " Expl Unexpl |  Obj  Depth IntInf | Incumbent    BestBd   Gap | It/Node Time\n",
      "\n",
      "     0     0    6.35000    0    9    9.00000    6.35000  29.4%     -    0s\n",
      "H    0     0                       7.0000000    6.35000  9.29%     -    0s\n",
      "     0     0    6.35000    0    9    7.00000    6.35000  9.29%     -    0s\n",
      "\n",
      "Explored 1 nodes (41 simplex iterations) in 0.32 seconds\n",
      "Thread count was 8 (of 8 available processors)\n",
      "\n",
      "Solution count 2: 7 9 \n",
      "\n",
      "Optimal solution found (tolerance 1.00e-04)\n",
      "Best objective 7.000000000000e+00, best bound 7.000000000000e+00, gap 0.0000%\n"
     ]
    }
   ],
   "source": [
    "# Modelo\n",
    "m = gp.Model()\n",
    "\n",
    "# Variáveis de decisão\n",
    "x = m.addVars(itens, caixas, vtype=gp.GRB.BINARY)\n",
    "y = m.addVars(caixas, vtype=gp.GRB.BINARY)\n",
    "\n",
    "# Função Objetivo\n",
    "m.setObjective(\n",
    "    gp.quicksum(y[j] for j in caixas),\n",
    "    sense=gp.GRB.MINIMIZE\n",
    ")\n",
    "\n",
    "# Restrição de todos os itens em uma caixa\n",
    "c1 = m.addConstrs(\n",
    "    gp.quicksum(x[i,j] for j in caixas) == 1 for i in itens\n",
    ")\n",
    "\n",
    "# Restrição de capacidade\n",
    "c2 = m.addConstrs(\n",
    "    gp.quicksum(pesos[i]*x[i,j] for i in itens) <= capacidade*y[j] for j in caixas\n",
    ")\n",
    "\n",
    "# Executar o modelo\n",
    "m.optimize()"
   ]
  },
  {
   "cell_type": "code",
   "execution_count": 12,
   "metadata": {},
   "outputs": [
    {
     "name": "stdout",
     "output_type": "stream",
     "text": [
      "Caixa_1\n",
      "Item_10  Item_13  \n",
      "\n",
      "Caixa_2\n",
      "Item_12  Item_15  \n",
      "\n",
      "Caixa_3\n",
      "Item_3  Item_7  \n",
      "\n",
      "Caixa_4\n",
      "\n",
      "\n",
      "Caixa_5\n",
      "Item_6  Item_11  \n",
      "\n",
      "Caixa_6\n",
      "Item_1  Item_14  \n",
      "\n",
      "Caixa_7\n",
      "Item_2  Item_8  \n",
      "\n",
      "Caixa_8\n",
      "Item_4  Item_5  Item_9  \n",
      "\n",
      "Caixa_9\n",
      "\n",
      "\n"
     ]
    }
   ],
   "source": [
    "# Qual item está em qual caixa?\n",
    "for caixa in caixas:\n",
    "    print(caixa)\n",
    "    for item in itens:\n",
    "        if round(x[item,caixa].X) == 1:\n",
    "            print(item, ' ', end='')\n",
    "    print('\\n')"
   ]
  },
  {
   "cell_type": "code",
   "execution_count": null,
   "metadata": {},
   "outputs": [],
   "source": []
  }
 ],
 "metadata": {
  "kernelspec": {
   "display_name": "Python 3",
   "language": "python",
   "name": "python3"
  },
  "language_info": {
   "codemirror_mode": {
    "name": "ipython",
    "version": 3
   },
   "file_extension": ".py",
   "mimetype": "text/x-python",
   "name": "python",
   "nbconvert_exporter": "python",
   "pygments_lexer": "ipython3",
   "version": "3.7.3"
  },
  "varInspector": {
   "cols": {
    "lenName": 16,
    "lenType": 16,
    "lenVar": 40
   },
   "kernels_config": {
    "python": {
     "delete_cmd_postfix": "",
     "delete_cmd_prefix": "del ",
     "library": "var_list.py",
     "varRefreshCmd": "print(var_dic_list())"
    },
    "r": {
     "delete_cmd_postfix": ") ",
     "delete_cmd_prefix": "rm(",
     "library": "var_list.r",
     "varRefreshCmd": "cat(var_dic_list()) "
    }
   },
   "types_to_exclude": [
    "module",
    "function",
    "builtin_function_or_method",
    "instance",
    "_Feature"
   ],
   "window_display": false
  }
 },
 "nbformat": 4,
 "nbformat_minor": 2
}
