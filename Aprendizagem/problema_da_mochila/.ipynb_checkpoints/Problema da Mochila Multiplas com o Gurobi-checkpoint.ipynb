{
 "cells": [
  {
   "cell_type": "markdown",
   "metadata": {},
   "source": [
    "# Problema da Mochila Múltiplas com o Gurobi\n",
    "\n",
    "Temos um conjunto de itens, em que cada item tem um peso e um valor. Queremos escolher com variáveis binárias, quais desses itens serão colocados em cada mochila de forma que o peso total de cada mochila não exceda a capacidade da mochila, que seja restrigindo a colocação dos itens em uma única mochila, e que seja maximizado o valor total dos itens em cada mochila.\n",
    "\n",
    "\n",
    "Maximizar \n",
    "\n",
    "$\\sum_{i=1}^{n}\\sum_{j=1}^{m}v_i x_{ij}$\n",
    "\n",
    "Sujeito a: \n",
    "\n",
    "$\\sum_{i=1}^{n}\\sum_{j=1}^{m}w_i x_{ij} \\leq C_j, $ $\\forall i=1, ..., n $\n",
    "\n",
    "$\\sum_{j=1}^{m}x_{ij} \\leq 1, $ $\\forall j=1, ..., m $\n",
    "\n",
    "$x_{ij} \\in \\{0, 1\\}$ $\\forall i=1, ..., m $; $j=1, ..., n $\n",
    "\n",
    "\n",
    "com $w_i$ e $v_i$ corresponde ao peso e valor do item i, respectivamente."
   ]
  },
  {
   "cell_type": "code",
   "execution_count": 6,
   "metadata": {},
   "outputs": [],
   "source": [
    "import gurobipy as gp"
   ]
  },
  {
   "cell_type": "code",
   "execution_count": 15,
   "metadata": {},
   "outputs": [],
   "source": [
    "name_arq = 'dados_problema_da_mochila_multipla.txt'\n",
    "with open(name_arq, 'r') as f:\n",
    "    lines = f.readlines()        \n",
    "    # Lista com a capacidade de cada mochila    \n",
    "    capacidade = {f'Mochila_{idx}':int(line) for idx, line in enumerate(lines[0].strip().split(' '), 1)}\n",
    "    mochilas = [cap for cap in capacidade]\n",
    "    # Excluindo o primeiro elemento da lista 'lines'\n",
    "    del(lines[0])\n",
    "    # Lista de itens\n",
    "    itens = [f'Item_{i}' for i in range(1,len(lines)+1)]        \n",
    "    # Construindo dicionário pesos e valores\n",
    "    pesos, valores = dict(), dict()\n",
    "    for i, line in enumerate(lines):\n",
    "        peso, valor = line.strip().split(' ')\n",
    "        pesos[itens[i]] = int(peso)\n",
    "        valores[itens[i]] = int(valor)        "
   ]
  },
  {
   "cell_type": "code",
   "execution_count": 26,
   "metadata": {},
   "outputs": [],
   "source": [
    "# Criando o modelo\n",
    "m = gp.Model()\n",
    "\n",
    "# Configuração para não escrever o relatório\n",
    "m.setParam(gp.GRB.Param.OutputFlag, 0)\n",
    "\n",
    "# Inserindo as variáveis de decisão\n",
    "x = m.addVars(itens, capacidade_mochilas, vtype=gp.GRB.BINARY)\n",
    "\n",
    "# Função objetivo\n",
    "m.setObjective(\n",
    "    gp.quicksum(x[i,j]*valores[i] for i in itens for j in mochilas),\n",
    "    sense=gp.GRB.MAXIMIZE\n",
    ")\n",
    "\n",
    "# Restrição cada item em uma única mochila\n",
    "c1 = m.addConstrs(\n",
    "    gp.quicksum(x[i,j] for j in mochilas) <= 1 for i in itens\n",
    ")\n",
    "\n",
    "# Restrição da capacidade\n",
    "c2 = m.addConstrs(\n",
    "    gp.quicksum(x[i,j]*pesos[i] for i in itens) <= capacidade[j] for j in mochilas\n",
    ")\n",
    "\n",
    "# Executa o modelo\n",
    "m.optimize()"
   ]
  },
  {
   "cell_type": "code",
   "execution_count": 33,
   "metadata": {},
   "outputs": [
    {
     "name": "stdout",
     "output_type": "stream",
     "text": [
      "Valor Total 13364.0 \n",
      "\n",
      "Itens na Mochila_1:\n",
      "Item_4  Item_5  Item_9  Item_25  Item_44  Item_47  Item_48  Item_49  Item_53  Item_59  Item_62  Item_63  \n",
      "Capacidade utilizada: 1499.0\n",
      "\n",
      "\n",
      "Itens na Mochila_2:\n",
      "Item_2  Item_7  Item_11  Item_12  Item_13  Item_14  Item_16  Item_19  Item_22  Item_23  Item_28  Item_29  Item_31  Item_32  Item_38  Item_39  Item_50  Item_60  \n",
      "Capacidade utilizada: 2000.0\n",
      "\n",
      "\n",
      "Itens na Mochila_3:\n",
      "Item_10  Item_15  Item_18  Item_24  Item_27  Item_30  Item_35  Item_40  Item_41  Item_46  Item_51  Item_57  \n",
      "Capacidade utilizada: 1700.0\n",
      "\n",
      "\n"
     ]
    }
   ],
   "source": [
    "# Valor objetivo\n",
    "print('Valor Total', m.objVal, '\\n')\n",
    "\n",
    "# Mostra os itens que estão em cada mochila e capacidade utilizada\n",
    "for j in mochilas:\n",
    "    print(f'Itens na {j}:')\n",
    "    for i in itens:\n",
    "        if round(x[i,j].X) == 1:\n",
    "            print(i, ' ', end='')\n",
    "    print('\\nCapacidade utilizada:',capacidade[j] - c2[j].Slack)\n",
    "    print('\\n')"
   ]
  }
 ],
 "metadata": {
  "kernelspec": {
   "display_name": "Python 3",
   "language": "python",
   "name": "python3"
  },
  "language_info": {
   "codemirror_mode": {
    "name": "ipython",
    "version": 3
   },
   "file_extension": ".py",
   "mimetype": "text/x-python",
   "name": "python",
   "nbconvert_exporter": "python",
   "pygments_lexer": "ipython3",
   "version": "3.7.3"
  },
  "varInspector": {
   "cols": {
    "lenName": 16,
    "lenType": 16,
    "lenVar": 40
   },
   "kernels_config": {
    "python": {
     "delete_cmd_postfix": "",
     "delete_cmd_prefix": "del ",
     "library": "var_list.py",
     "varRefreshCmd": "print(var_dic_list())"
    },
    "r": {
     "delete_cmd_postfix": ") ",
     "delete_cmd_prefix": "rm(",
     "library": "var_list.r",
     "varRefreshCmd": "cat(var_dic_list()) "
    }
   },
   "types_to_exclude": [
    "module",
    "function",
    "builtin_function_or_method",
    "instance",
    "_Feature"
   ],
   "window_display": false
  }
 },
 "nbformat": 4,
 "nbformat_minor": 2
}
