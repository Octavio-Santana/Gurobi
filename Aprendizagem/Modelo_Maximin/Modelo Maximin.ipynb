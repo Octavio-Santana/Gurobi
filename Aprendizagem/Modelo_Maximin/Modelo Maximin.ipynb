{
 "cells": [
  {
   "attachments": {
    "image.png": {
     "image/png": "[encoded data removed]"
    }
   },
   "cell_type": "markdown",
   "metadata": {},
   "source": [
    "Implementação do modelo de designação com função objetivo Maximin, ou seja, maximizar o menor valor de alguma característica que estamos interessados.\n",
    "\n",
    "Dada a tabela abaixo, queremos maximizar a menor satisfação de cada professor ministrar a disciplina com mais afinidade.\n",
    "\n",
    "\n",
    "![image.png](attachment:image.png)\n",
    "\n",
    "\n",
    "Índices\n",
    "- i = 1, ..., m representa o professor i\n",
    "- j = 1, ..., n representa a disciplina j\n",
    "\n",
    "Parametro\n",
    "- $p_{ij}$ satisfação do professor i em ministrar a disciplina j;\n",
    "- $R$ menor satisfação\n",
    "\n",
    "#### Variáveis\n",
    "- $x_{ij}$ indica se o professor i irá ministrar a disciplina j (variável binária)\n",
    "- $R$ corresponde a satisfação mínima\n",
    "\n",
    "#### Função objetivo\n",
    "$$\n",
    "\\max (R)\n",
    "$$\n",
    "\n",
    "#### Restrição de que todos os professores teram que ministrar apenas uma disciplina\n",
    "$$\n",
    "\\sum_{j=1}^{n}x_{ij} =1, \\;\\; \\forall i=1,...,m\n",
    "$$\n",
    "\n",
    "#### Restrição de que todas as disciplinas sejam ministradas por apenas um professor\n",
    "$$\n",
    "\\sum_{i=1}^{m}x_{ij} = 1, \\;\\; \\forall j=1,...,n\n",
    "$$\n",
    "\n",
    "#### Restrição que garante que R assumirá o valor da menor preferência\n",
    "$$\n",
    "\\sum_{j=1}^{n}p_{ij}x_{ij} \\geq R, \\;\\; \\forall i=1, ..., m\n",
    "$$\n"
   ]
  },
  {
   "cell_type": "code",
   "execution_count": 1,
   "metadata": {},
   "outputs": [],
   "source": [
    "import gurobipy as gp"
   ]
  },
  {
   "cell_type": "code",
   "execution_count": 3,
   "metadata": {},
   "outputs": [],
   "source": [
    "# Parametros\n",
    "qtd_professores = 8\n",
    "qtd_disciplinas = 8\n",
    "\n",
    "# Satisfação do professor i em ministrar a disciplina j\n",
    "vet_satisfacao = [[7, 2, 10, 6, 7, 5, 6, 7],\n",
    "                  [7, 4, 2, 3, 7, 3, 10, 8],\n",
    "                  [8, 7, 10, 3, 6, 9, 5, 6],\n",
    "                  [5, 4, 6, 8, 5, 1, 9, 8],\n",
    "                  [8, 3, 4, 6, 8, 1, 7, 7], \n",
    "                  [5, 8, 7, 4, 6, 7, 3, 4], \n",
    "                  [2, 6, 5, 6, 3, 8, 7, 3], \n",
    "                  [4, 7, 6, 5, 5, 8, 4, 5]]\n",
    "\n",
    "# Rótulo dos professores\n",
    "professores = [f'P_{i+1}' for i in range(qtd_professores)]\n",
    "\n",
    "# Rótulo das disciplinas\n",
    "disciplinas = [f'D_{i+1}' for i in range(qtd_disciplinas)]\n",
    "\n",
    "# Dicionário de satisfação\n",
    "satisfacao = { (professores[i], disciplinas[j]):vet_satisfacao[i][j] \n",
    "              for i in range(qtd_professores) for j in range(qtd_disciplinas)}"
   ]
  },
  {
   "cell_type": "code",
   "execution_count": 16,
   "metadata": {},
   "outputs": [
    {
     "name": "stdout",
     "output_type": "stream",
     "text": [
      "Gurobi Optimizer version 9.0.3 build v9.0.3rc0 (linux64)\n",
      "Optimize a model with 24 rows, 65 columns and 200 nonzeros\n",
      "Model fingerprint: 0x626902d3\n",
      "Variable types: 1 continuous, 64 integer (64 binary)\n",
      "Coefficient statistics:\n",
      "  Matrix range     [1e+00, 1e+01]\n",
      "  Objective range  [1e+00, 1e+00]\n",
      "  Bounds range     [1e+00, 1e+00]\n",
      "  RHS range        [1e+00, 1e+00]\n",
      "Found heuristic solution: objective 3.0000000\n",
      "Presolve removed 0 rows and 5 columns\n",
      "Presolve time: 0.31s\n",
      "Presolved: 24 rows, 60 columns, 174 nonzeros\n",
      "Variable types: 0 continuous, 60 integer (59 binary)\n",
      "\n",
      "Root relaxation: objective 7.500000e+00, 46 iterations, 0.02 seconds\n",
      "\n",
      "    Nodes    |    Current Node    |     Objective Bounds      |     Work\n",
      " Expl Unexpl |  Obj  Depth IntInf | Incumbent    BestBd   Gap | It/Node Time\n",
      "\n",
      "     0     0    7.50000    0   11    3.00000    7.50000   150%     -    0s\n",
      "H    0     0                       6.0000000    7.50000  25.0%     -    0s\n",
      "H    0     0                       7.0000000    7.50000  7.14%     -    0s\n",
      "     0     0    7.50000    0   11    7.00000    7.50000  7.14%     -    0s\n",
      "\n",
      "Explored 1 nodes (60 simplex iterations) in 0.45 seconds\n",
      "Thread count was 8 (of 8 available processors)\n",
      "\n",
      "Solution count 3: 7 6 3 \n",
      "\n",
      "Optimal solution found (tolerance 1.00e-04)\n",
      "Best objective 7.000000000000e+00, best bound 7.000000000000e+00, gap 0.0000%\n"
     ]
    }
   ],
   "source": [
    "# Modelo\n",
    "m = gp.Model()\n",
    "\n",
    "# Variáveis\n",
    "x = m.addVars(professores, disciplinas, vtype=gp.GRB.BINARY)\n",
    "R = m.addVar()\n",
    "\n",
    "# Função objetivo\n",
    "m.setObjective(R, sense=gp.GRB.MAXIMIZE)\n",
    "\n",
    "# Restrição de que todos os professores teram que ministrar apenas uma disciplina\n",
    "c1 = m.addConstrs(\n",
    "    x.sum(i, '*') == 1 for i in professores\n",
    ")\n",
    "\n",
    "# Restrição de que todas as disciplinas sejam ministradas por apenas um professor\n",
    "c2 = m.addConstrs(\n",
    "    x.sum('*', j) == 1 for j in disciplinas\n",
    ")\n",
    "\n",
    "# Restrição que garante que R assumirá o valor da menor preferência\n",
    "c3 = m.addConstrs(\n",
    "    x.prod(satisfacao, i, '*') >=  R for i in professores\n",
    ")\n",
    "\n",
    "# Executa\n",
    "m.optimize()"
   ]
  },
  {
   "cell_type": "code",
   "execution_count": 31,
   "metadata": {},
   "outputs": [
    {
     "name": "stdout",
     "output_type": "stream",
     "text": [
      "    D_1 D_2 D_3 D_4 D_5 D_6 D_7 D_8\n",
      "P_1  0   0   1   0   0   0   0   0   \n",
      "P_2  0   0   0   0   0   0   0   1   \n",
      "P_3  1   0   0   0   0   0   0   0   \n",
      "P_4  0   0   0   1   0   0   0   0   \n",
      "P_5  0   0   0   0   1   0   0   0   \n",
      "P_6  0   1   0   0   0   0   0   0   \n",
      "P_7  0   0   0   0   0   0   1   0   \n",
      "P_8  0   0   0   0   0   1   0   0   \n"
     ]
    }
   ],
   "source": [
    "# Qual disciplina será ministrada por qual professor?\n",
    "print('   ',*disciplinas)\n",
    "for i in professores:\n",
    "    print(f'{i} ', end=' ')\n",
    "    for j in disciplinas:        \n",
    "        print(f'{round(x[i,j].X)}   ',end='')\n",
    "    print('')"
   ]
  },
  {
   "cell_type": "code",
   "execution_count": 34,
   "metadata": {},
   "outputs": [
    {
     "name": "stdout",
     "output_type": "stream",
     "text": [
      "Satisfação total: 65\n",
      "Satisfação mínima: 7\n"
     ]
    }
   ],
   "source": [
    "# Satisfação total e mínima\n",
    "sats_total = x.prod(satisfacao).getValue()\n",
    "print(f'Satisfação total: {round(sats_total)}')\n",
    "print(f'Satisfação mínima: {round(R.X)}')"
   ]
  },
  {
   "cell_type": "code",
   "execution_count": 41,
   "metadata": {},
   "outputs": [
    {
     "name": "stdout",
     "output_type": "stream",
     "text": [
      "     Satisfação\n",
      "P_1  10   \n",
      "P_2  8   \n",
      "P_3  8   \n",
      "P_4  8   \n",
      "P_5  8   \n",
      "P_6  8   \n",
      "P_7  7   \n",
      "P_8  8   \n"
     ]
    }
   ],
   "source": [
    "# Satisfação de cada professor\n",
    "print('    ', 'Satisfação')\n",
    "for i in range(qtd_professores):\n",
    "    print(f'{professores[i]} ', end=' ')\n",
    "    for j in range(qtd_disciplinas):\n",
    "        if round(x[professores[i],disciplinas[j]].X) == 1:\n",
    "            print(f'{vet_satisfacao[i][j]}   ',end='')\n",
    "    print('')"
   ]
  },
  {
   "cell_type": "code",
   "execution_count": null,
   "metadata": {},
   "outputs": [],
   "source": []
  }
 ],
 "metadata": {
  "kernelspec": {
   "display_name": "Python 3",
   "language": "python",
   "name": "python3"
  },
  "language_info": {
   "codemirror_mode": {
    "name": "ipython",
    "version": 3
   },
   "file_extension": ".py",
   "mimetype": "text/x-python",
   "name": "python",
   "nbconvert_exporter": "python",
   "pygments_lexer": "ipython3",
   "version": "3.7.3"
  },
  "varInspector": {
   "cols": {
    "lenName": 16,
    "lenType": 16,
    "lenVar": 40
   },
   "kernels_config": {
    "python": {
     "delete_cmd_postfix": "",
     "delete_cmd_prefix": "del ",
     "library": "var_list.py",
     "varRefreshCmd": "print(var_dic_list())"
    },
    "r": {
     "delete_cmd_postfix": ") ",
     "delete_cmd_prefix": "rm(",
     "library": "var_list.r",
     "varRefreshCmd": "cat(var_dic_list()) "
    }
   },
   "types_to_exclude": [
    "module",
    "function",
    "builtin_function_or_method",
    "instance",
    "_Feature"
   ],
   "window_display": false
  }
 },
 "nbformat": 4,
 "nbformat_minor": 2
}
