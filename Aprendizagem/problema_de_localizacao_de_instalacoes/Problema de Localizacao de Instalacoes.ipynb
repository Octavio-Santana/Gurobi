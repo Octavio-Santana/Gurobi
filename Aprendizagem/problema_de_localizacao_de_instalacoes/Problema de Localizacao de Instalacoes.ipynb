{
 "cells": [
  {
   "cell_type": "markdown",
   "metadata": {},
   "source": [
    "# Problema das p-Medianas Capacitado com Custos Fixos\n",
    "\n",
    "![imagem.png](imagem/imagem.png)\n",
    "\n",
    "## Modelagem do Problema\n",
    "\n",
    "#### Índices\n",
    "- i = 1, ..., m locais que podem receber instalações\n",
    "- j = 1, ..., n centros consumidores\n",
    "\n",
    "#### Parâmetros\n",
    "- $c_{ij}$ custo para atender o ponto $j$ a partir da instalação $i$;\n",
    "- $p$ quantidade de instalações a serem abertas;\n",
    "- $d_j$ demanda no centro consumidor $j$;\n",
    "- $C_i$ capacidade da localidade $i$;\n",
    "- $f_i$ custo fixo para abrir a instalação em $i$;\n",
    "\n",
    "##### Variáveis de Decisão (todas binárias)\n",
    "- $x_{ij}$ indica se a instalação $i$ atenderá o centro consumidor $j$;\n",
    "- $y_i$ indica se uma instalação será aberta no local $i$;\n",
    "\n",
    "#### Função Objetivo\n",
    "Custo total da solução (transporte + fixo)\n",
    "$$\n",
    "\\sum_{i=1}^{m}\\sum_{j=1}^{n}c_{ij}x_{ij} + \\sum_{i=1}^{m}f_i y_i\n",
    "$$\n",
    "\n",
    "#### Função Restrição\n",
    "Todos os clientes devem ser atendidos\n",
    "$$\n",
    "\\sum_{i=1}^{m}x_{ij}=1, \\;\\; \\forall j=1,...,n\n",
    "$$\n",
    "Restrição de capacidade das instalações disponíveis\n",
    "$$\n",
    "\\sum_{j=1}^{n}d_{j}x_{ij}\\leq C_{i}y_{i}, \\;\\; \\forall i=1,...,m\n",
    "$$\n",
    "Exatamente `p` instalações devem ser abertas\n",
    "$$\n",
    "\\sum_{i=1}^{m}y_{i}=p,\n",
    "$$"
   ]
  },
  {
   "cell_type": "code",
   "execution_count": 1,
   "metadata": {},
   "outputs": [],
   "source": [
    "import gurobipy as gp"
   ]
  },
  {
   "cell_type": "code",
   "execution_count": 2,
   "metadata": {},
   "outputs": [],
   "source": [
    "# Dados do problema\n",
    "qtd_fabricas = 5   # Quantidades de fábricas\n",
    "qtd_clientes = 10  # Quantidades de clientes\n",
    "valor_p = 2        # Quantidades de fábricas que queremos abrir\n",
    "\n",
    "# Custos para atender toda a demanda (origens X destinos)\n",
    "vet_custos = [[684, 439, 441, 1078, 806, 557, 443, 356, 1265, 322],\n",
    "              [441, 728, 822, 21, 440, 728, 1202, 1121, 934, 1077],\n",
    "              [791, 576, 574, 1197, 899, 692, 385, 322, 1306, 306],\n",
    "              [700, 974, 1059, 275, 675, 954, 1458, 1380, 1055, 1337],\n",
    "              [217, 375, 483, 641, 324, 503, 558, 470, 859, 424]]\n",
    "\n",
    "# Capacidade nas origens\n",
    "vet_capacidades = [800, 1000, 1400, 1000, 1200]\n",
    "\n",
    "# Custos fixos para abrir cada origem\n",
    "vet_custos_fixos = [2200, 2500, 3300, 2300, 2900]\n",
    "\n",
    "# Demanda nos destinos\n",
    "vet_demandas = [130, 210, 100, 250, 170, 160, 230, 190, 150, 140]"
   ]
  },
  {
   "cell_type": "code",
   "execution_count": 5,
   "metadata": {},
   "outputs": [],
   "source": [
    "# Rótulos dos índice\n",
    "fabricas = [f'Fabrica_{i}' for i in range(1, qtd_fabricas+1)]\n",
    "\n",
    "# Rótulos dos clientes\n",
    "clientes = [f'Cliente_{j}' for j in range(1, qtd_clientes+1)]"
   ]
  },
  {
   "cell_type": "code",
   "execution_count": 13,
   "metadata": {},
   "outputs": [],
   "source": [
    "# Dicionário de custos\n",
    "custos = {(fabricas[i], clientes[j]):vet_custos[i][j] for i in range(qtd_fabricas) for j in range(qtd_clientes)}\n",
    "\n",
    "# Dicionário de demandas dos clientes\n",
    "demandas = {clientes[j]:vet_demandas[j] for j in range(qtd_clientes)}\n",
    "\n",
    "# Dicionário de capacidade\n",
    "capacidades = {fabricas[i]:vet_capacidades[i] for i in range(qtd_fabricas)}\n",
    "\n",
    "# Dicionário de custos fixos\n",
    "custos_fixos = {fabricas[i]:vet_custos_fixos[i] for i in range(qtd_fabricas)}"
   ]
  },
  {
   "cell_type": "code",
   "execution_count": 11,
   "metadata": {},
   "outputs": [],
   "source": [
    "# Cria Modelo\n",
    "m = gp.Model()\n",
    "\n",
    "# Adicionar variáveis de decisão\n",
    "x = m.addVars(fabricas, clientes, vtype=gp.GRB.BINARY)\n",
    "y = m.addVars(fabricas, vtype=gp.GRB.BINARY)"
   ]
  },
  {
   "cell_type": "code",
   "execution_count": 12,
   "metadata": {},
   "outputs": [],
   "source": [
    "# Função Objetivo\n",
    "m.setObjective(\n",
    "    x.prod(custos) + y.prod(custos_fixos),\n",
    "    sense=gp.GRB.MINIMIZE\n",
    ")"
   ]
  },
  {
   "cell_type": "code",
   "execution_count": 14,
   "metadata": {},
   "outputs": [],
   "source": [
    "# Restrições que garatem que todo cliente vai ser atendido\n",
    "c1 = m.addConstrs(\n",
    "    x.sum('*', j) == 1 for j in clientes\n",
    ")\n",
    "\n",
    "# Restrições que abrem exatamente p fábricas \n",
    "c2 = m.addConstr(\n",
    "    y.sum('*') == valor_p\n",
    ")\n",
    "\n",
    "# Restrições de capacidade\n",
    "c3 = m.addConstrs(\n",
    "    gp.quicksum(demandas[j]*x[i,j] for j in clientes) <= capacidades[i]*y[i]\n",
    "    for i in fabricas\n",
    ")"
   ]
  },
  {
   "cell_type": "code",
   "execution_count": 15,
   "metadata": {},
   "outputs": [
    {
     "name": "stdout",
     "output_type": "stream",
     "text": [
      "Gurobi Optimizer version 9.0.3 build v9.0.3rc0 (linux64)\n",
      "Optimize a model with 16 rows, 55 columns and 110 nonzeros\n",
      "Model fingerprint: 0x085ab662\n",
      "Variable types: 0 continuous, 55 integer (55 binary)\n",
      "Coefficient statistics:\n",
      "  Matrix range     [1e+00, 1e+03]\n",
      "  Objective range  [2e+01, 3e+03]\n",
      "  Bounds range     [1e+00, 1e+00]\n",
      "  RHS range        [1e+00, 2e+00]\n",
      "Found heuristic solution: objective 12990.000000\n",
      "Presolve time: 0.04s\n",
      "Presolved: 16 rows, 55 columns, 110 nonzeros\n",
      "Variable types: 0 continuous, 55 integer (55 binary)\n",
      "\n",
      "Root relaxation: objective 8.793667e+03, 15 iterations, 0.00 seconds\n",
      "\n",
      "    Nodes    |    Current Node    |     Objective Bounds      |     Work\n",
      " Expl Unexpl |  Obj  Depth IntInf | Incumbent    BestBd   Gap | It/Node Time\n",
      "\n",
      "     0     0 8793.66667    0    5 12990.0000 8793.66667  32.3%     -    0s\n",
      "H    0     0                    10777.000000 8793.66667  18.4%     -    0s\n",
      "H    0     0                    9581.0000000 8793.66667  8.22%     -    0s\n",
      "     0     0 9581.00000    0   13 9581.00000 9581.00000  0.00%     -    0s\n",
      "\n",
      "Cutting planes:\n",
      "  Gomory: 1\n",
      "  Cover: 2\n",
      "  Clique: 3\n",
      "  MIR: 2\n",
      "  RLT: 1\n",
      "\n",
      "Explored 1 nodes (27 simplex iterations) in 0.34 seconds\n",
      "Thread count was 8 (of 8 available processors)\n",
      "\n",
      "Solution count 3: 9581 10777 12990 \n",
      "\n",
      "Optimal solution found (tolerance 1.00e-04)\n",
      "Best objective 9.581000000000e+03, best bound 9.581000000000e+03, gap 0.0000%\n"
     ]
    }
   ],
   "source": [
    "# Executa o model\n",
    "m.optimize()"
   ]
  },
  {
   "cell_type": "code",
   "execution_count": 23,
   "metadata": {},
   "outputs": [
    {
     "name": "stdout",
     "output_type": "stream",
     "text": [
      "Fabrica_1\n",
      "Cliente_3  Cliente_7  Cliente_8  Cliente_10  \n",
      "Capacidade Nominal: 800\n",
      "Capacidade Usada: 660.0\n",
      "Capacidade Livre: 140.0\n",
      "\n",
      "Fabrica_5\n",
      "Cliente_1  Cliente_2  Cliente_4  Cliente_5  Cliente_6  Cliente_9  \n",
      "Capacidade Nominal: 1200\n",
      "Capacidade Usada: 1070.0\n",
      "Capacidade Livre: 130.0\n",
      "\n"
     ]
    }
   ],
   "source": [
    "# Relação de fábricas abetas,designações e capacidade\n",
    "fab_abertas = [fab for fab in fabricas if round(y[fab].X) == 1]\n",
    "\n",
    "for fab in fab_abertas:\n",
    "    print(fab)\n",
    "    for cli in clientes:\n",
    "        if round(x[fab,cli].X) == 1:\n",
    "            print(cli, ' ', end='')\n",
    "    livre = c3[fab].Slack\n",
    "    usado = capacidade[fab] - livre\n",
    "    print('')\n",
    "    print('Capacidade Nominal:', capacidade[fab])\n",
    "    print('Capacidade Usada:', usado)\n",
    "    print('Capacidade Livre:', livre)\n",
    "    print('')"
   ]
  },
  {
   "cell_type": "code",
   "execution_count": null,
   "metadata": {},
   "outputs": [],
   "source": []
  }
 ],
 "metadata": {
  "kernelspec": {
   "display_name": "Python 3",
   "language": "python",
   "name": "python3"
  },
  "language_info": {
   "codemirror_mode": {
    "name": "ipython",
    "version": 3
   },
   "file_extension": ".py",
   "mimetype": "text/x-python",
   "name": "python",
   "nbconvert_exporter": "python",
   "pygments_lexer": "ipython3",
   "version": "3.7.3"
  },
  "varInspector": {
   "cols": {
    "lenName": 16,
    "lenType": 16,
    "lenVar": 40
   },
   "kernels_config": {
    "python": {
     "delete_cmd_postfix": "",
     "delete_cmd_prefix": "del ",
     "library": "var_list.py",
     "varRefreshCmd": "print(var_dic_list())"
    },
    "r": {
     "delete_cmd_postfix": ") ",
     "delete_cmd_prefix": "rm(",
     "library": "var_list.r",
     "varRefreshCmd": "cat(var_dic_list()) "
    }
   },
   "types_to_exclude": [
    "module",
    "function",
    "builtin_function_or_method",
    "instance",
    "_Feature"
   ],
   "window_display": false
  }
 },
 "nbformat": 4,
 "nbformat_minor": 2
}
