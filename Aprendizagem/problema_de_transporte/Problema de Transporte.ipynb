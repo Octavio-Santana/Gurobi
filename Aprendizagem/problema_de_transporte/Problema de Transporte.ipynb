{
 "cells": [
  {
   "cell_type": "markdown",
   "metadata": {},
   "source": [
    "![image.png](image/Problema_de_Transporte.png)\n",
    "\n",
    "## Modelagem do Problema\n",
    "\n",
    "Índices:\n",
    "- $i=1, ..., m$ pontos de origem (oferta);\n",
    "- $j=1, ..., n$ pontos de destino (demanda);\n",
    "\n",
    "Parâmetros:\n",
    "- $s_i$ quantidade ofertada na origem $i$;\n",
    "- $d_j$ quantidade demandada no destino $j$;\n",
    "- $c_{ij}$ custo unitário de transporte entre a origem $i$ e o destino $j$.\n",
    "\n",
    "Objetivo:\n",
    "\n",
    "$$\n",
    "\\min \\sum_{i=1}^{m}\\sum_{j=1}^{n}c_{ij}x_{ij}\n",
    "$$\n",
    "\n",
    "Restrições:\n",
    "\n",
    "- Caso 1: O total ofertado é maior que o total demandado. Nesse caso, nem toda a oferta será enviada.\n",
    "\n",
    "$$\n",
    "\\sum_{j=1}^{n}x_{ij} \\leq s_i, \\;\\; \\forall i=1, ..., m \\\\\n",
    "\\sum_{i=1}^{m}x_{ij} = d_j, \\;\\; \\forall j=1, ..., n \\\\\n",
    "x_{ij} \\geq 0\n",
    "$$\n",
    "\n",
    "- Caso 2: O total demandado é maior que o total ofertado. Nesse caso, nem toda a demanda será atendida\n",
    "\n",
    "$$\n",
    "\\sum_{j=1}^{n}x_{ij} = s_i, \\;\\; \\forall i=1, ..., m \\\\\n",
    "\\sum_{i=1}^{m}x_{ij} \\leq d_j, \\;\\; \\forall j=1, ..., n \\\\\n",
    "x_{ij} \\geq 0\n",
    "$$"
   ]
  },
  {
   "cell_type": "code",
   "execution_count": 9,
   "metadata": {},
   "outputs": [],
   "source": [
    "import gurobipy as gp"
   ]
  },
  {
   "cell_type": "code",
   "execution_count": 10,
   "metadata": {},
   "outputs": [
    {
     "name": "stdout",
     "output_type": "stream",
     "text": [
      "Oferta total:610 e demanda total: 710\n"
     ]
    }
   ],
   "source": [
    "# Parâmetros do problema\n",
    "\n",
    "instancia = 2\n",
    "if instancia == 1:\n",
    "    # INSTÂNCIA 1 (Oferta maior que a demanda)\n",
    "    vet_ofertas = [140, 160, 200, 190]\n",
    "    vet_demandas = [50, 80, 30, 50, 100, 90, 20, 70, 120]\n",
    "elif instancia == 2:\n",
    "    # INSTÂNCIA 2 (Demanda maior que a oferta)\n",
    "    vet_ofertas = [140, 160, 120, 190]\n",
    "    vet_demandas = [50, 80, 30, 50, 100, 90, 120, 70, 120]\n",
    "else:\n",
    "    # INSTÂNCIA 3 (Demanda igual à oferta)\n",
    "    vet_ofertas = [190, 160, 170, 190]\n",
    "    vet_demandas = [50, 80, 30, 50, 100, 90, 120, 70, 120]\n",
    "\n",
    "qtd_fabricas = len(vet_ofertas)\n",
    "qtd_clientes = len(vet_demandas)    \n",
    "    \n",
    "oferta_total = sum(vet_ofertas)\n",
    "demanda_total = sum(vet_demandas)\n",
    "    \n",
    "vet_custos = [[12, 25, 39, 17, 38, 40, 8, 25, 13],\n",
    "              [17, 26, 20, 25, 30, 25, 14, 20, 15],\n",
    "              [35, 15, 18, 20, 12, 42, 27, 26, 19],\n",
    "              [28, 30, 37, 30, 28, 36, 16, 24, 32]]\n",
    "\n",
    "print(f'Oferta total:{oferta_total} e demanda total: {demanda_total}')"
   ]
  },
  {
   "cell_type": "code",
   "execution_count": 11,
   "metadata": {},
   "outputs": [],
   "source": [
    "# Rótulos das fábricas e clientes\n",
    "fabricas = [f'Fab_{i}' for i in range(1, qtd_fabricas+1) ]\n",
    "clientes = [f'Cli_{i}' for i in range(1, qtd_clientes+1) ]"
   ]
  },
  {
   "cell_type": "code",
   "execution_count": 12,
   "metadata": {},
   "outputs": [],
   "source": [
    "# Dicionários com as ofertas\n",
    "ofertas = {fabricas[i]:valor for i, valor in enumerate(vet_ofertas)}\n",
    "\n",
    "# Dicionários com as demandas\n",
    "demandas = {clientes[i]:valor for i, valor in enumerate(vet_demandas)}"
   ]
  },
  {
   "cell_type": "code",
   "execution_count": 13,
   "metadata": {},
   "outputs": [],
   "source": [
    "custos = {(fabricas[i], clientes[j]): vet_custos[i][j] for i in range(qtd_fabricas) for j in range(qtd_clientes)}"
   ]
  },
  {
   "cell_type": "code",
   "execution_count": 14,
   "metadata": {},
   "outputs": [
    {
     "name": "stdout",
     "output_type": "stream",
     "text": [
      "Gurobi Optimizer version 9.0.3 build v9.0.3rc0 (linux64)\n",
      "Optimize a model with 13 rows, 36 columns and 72 nonzeros\n",
      "Model fingerprint: 0x9a324ff4\n",
      "Variable types: 0 continuous, 36 integer (0 binary)\n",
      "Coefficient statistics:\n",
      "  Matrix range     [1e+00, 1e+00]\n",
      "  Objective range  [8e+00, 4e+01]\n",
      "  Bounds range     [0e+00, 0e+00]\n",
      "  RHS range        [3e+01, 2e+02]\n",
      "Found heuristic solution: objective 18940.000000\n",
      "Presolve time: 0.00s\n",
      "Presolved: 13 rows, 36 columns, 72 nonzeros\n",
      "Variable types: 0 continuous, 36 integer (0 binary)\n",
      "\n",
      "Root relaxation: objective 1.008000e+04, 13 iterations, 0.00 seconds\n",
      "\n",
      "    Nodes    |    Current Node    |     Objective Bounds      |     Work\n",
      " Expl Unexpl |  Obj  Depth IntInf | Incumbent    BestBd   Gap | It/Node Time\n",
      "\n",
      "*    0     0               0    10080.000000 10080.0000  0.00%     -    0s\n",
      "\n",
      "Explored 0 nodes (13 simplex iterations) in 0.02 seconds\n",
      "Thread count was 8 (of 8 available processors)\n",
      "\n",
      "Solution count 2: 10080 18940 \n",
      "\n",
      "Optimal solution found (tolerance 1.00e-04)\n",
      "Best objective 1.008000000000e+04, best bound 1.008000000000e+04, gap 0.0000%\n"
     ]
    }
   ],
   "source": [
    "m = gp.Model()\n",
    "\n",
    "# Variáveis de decisão\n",
    "x = m.addVars(fabricas, clientes, vtype=gp.GRB.INTEGER)\n",
    "\n",
    "# Função objetivo\n",
    "m.setObjective(\n",
    "    gp.quicksum(x[i, j] * custos[i, j] for i in fabricas for j in clientes),\n",
    "    sense=gp.GRB.MINIMIZE)\n",
    "\n",
    "# Restrições de oferta\n",
    "if oferta_total > demanda_total:\n",
    "    c1 = m.addConstrs(\n",
    "        gp.quicksum(x[i, j] for j in clientes) <= ofertas[i] for i in fabricas)\n",
    "else:\n",
    "    c1 = m.addConstrs(\n",
    "        gp.quicksum(x[i, j] for j in clientes) == ofertas[i] for i in fabricas)\n",
    "\n",
    "# Restrições de demanda\n",
    "if demanda_total > oferta_total:\n",
    "    c2 = m.addConstrs(\n",
    "        gp.quicksum(x[i, j] for i in fabricas) <= demandas[j] for j in clientes)\n",
    "else:\n",
    "    c2 = m.addConstrs(\n",
    "        gp.quicksum(x[i, j] for i in fabricas) == demandas[j] for j in clientes)\n",
    "\n",
    "# Executa o modelo\n",
    "m.optimize()"
   ]
  },
  {
   "cell_type": "code",
   "execution_count": 17,
   "metadata": {},
   "outputs": [
    {
     "name": "stdout",
     "output_type": "stream",
     "text": [
      "Origem: Fab_1\n",
      "Transportar 50 unidades para Cli_1\n",
      "Transportar 50 unidades para Cli_4\n",
      "Transportar 40 unidades para Cli_7\n",
      "\n",
      "Origem: Fab_2\n",
      "Transportar 30 unidades para Cli_3\n",
      "Transportar 10 unidades para Cli_6\n",
      "Transportar 120 unidades para Cli_9\n",
      "\n",
      "Origem: Fab_3\n",
      "Transportar 20 unidades para Cli_2\n",
      "Transportar 100 unidades para Cli_5\n",
      "\n",
      "Origem: Fab_4\n",
      "Transportar 40 unidades para Cli_2\n",
      "Transportar 80 unidades para Cli_7\n",
      "Transportar 70 unidades para Cli_8\n",
      "\n"
     ]
    }
   ],
   "source": [
    "# Imprime o plano de transporte das fábricas\n",
    "for i in fabricas:\n",
    "    print(\"Origem:\", i)\n",
    "    for j in clientes:\n",
    "        qtd = round(x[i, j].X)\n",
    "        if qtd > 0:\n",
    "            print(f\"Transportar {qtd} unidades para {j}\")\n",
    "    print(\"\")"
   ]
  },
  {
   "cell_type": "code",
   "execution_count": 19,
   "metadata": {},
   "outputs": [
    {
     "name": "stdout",
     "output_type": "stream",
     "text": [
      "Os clientes a seguir não tiveram toda a demanda atendida:\n",
      "Faltou 20 unidades a ser entregue ao Cliente: Cli_2\n",
      "Faltou 80 unidades a ser entregue ao Cliente: Cli_6\n"
     ]
    }
   ],
   "source": [
    "# Relatório de oferta ou demanda desbalanceada\n",
    "if oferta_total > demanda_total:\n",
    "    print(\"As fábricas a seguir tem capacidade excedente:\")\n",
    "    for i in fabricas:\n",
    "        sobra = round(c1[i].Slack)\n",
    "        if sobra > 0:\n",
    "            print(f\"A Fábrica: {i} tem {sobra} unidades\")\n",
    "elif demanda_total > oferta_total:\n",
    "    print(\"Os clientes a seguir não tiveram toda a demanda atendida:\")\n",
    "    for j in clientes:\n",
    "        sobra = round(c2[j].Slack)\n",
    "        if sobra > 0:\n",
    "            print(f\"Faltou {sobra} unidades a ser entregue ao Cliente: {j}\")\n",
    "else:\n",
    "    print(\"A oferta e demanda estão balanceadas\")"
   ]
  },
  {
   "cell_type": "code",
   "execution_count": null,
   "metadata": {},
   "outputs": [],
   "source": []
  }
 ],
 "metadata": {
  "kernelspec": {
   "display_name": "Python 3",
   "language": "python",
   "name": "python3"
  },
  "language_info": {
   "codemirror_mode": {
    "name": "ipython",
    "version": 3
   },
   "file_extension": ".py",
   "mimetype": "text/x-python",
   "name": "python",
   "nbconvert_exporter": "python",
   "pygments_lexer": "ipython3",
   "version": "3.7.3"
  },
  "varInspector": {
   "cols": {
    "lenName": 16,
    "lenType": 16,
    "lenVar": 40
   },
   "kernels_config": {
    "python": {
     "delete_cmd_postfix": "",
     "delete_cmd_prefix": "del ",
     "library": "var_list.py",
     "varRefreshCmd": "print(var_dic_list())"
    },
    "r": {
     "delete_cmd_postfix": ") ",
     "delete_cmd_prefix": "rm(",
     "library": "var_list.r",
     "varRefreshCmd": "cat(var_dic_list()) "
    }
   },
   "types_to_exclude": [
    "module",
    "function",
    "builtin_function_or_method",
    "instance",
    "_Feature"
   ],
   "window_display": false
  }
 },
 "nbformat": 4,
 "nbformat_minor": 2
}
